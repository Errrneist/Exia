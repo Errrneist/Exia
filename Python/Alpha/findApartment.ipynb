{
 "cells": [
  {
   "cell_type": "markdown",
   "metadata": {
    "collapsed": true
   },
   "source": [
    "# I want to find a cedar apartment!!\n",
    "## However, it is full. So what should I do?\n",
    "## Python will help!"
   ]
  },
  {
   "cell_type": "code",
   "execution_count": 18,
   "metadata": {},
   "outputs": [],
   "source": [
    "from selenium import webdriver\n",
    "from selenium.common.exceptions import NoSuchElementException\n",
    "from urllib.request import urlopen\n",
    "from email import encoders\n",
    "from email.header import Header\n",
    "from email.mime.text import MIMEText\n",
    "from email.utils import parseaddr, formataddr\n",
    "import smtplib\n",
    "import time\n",
    "import datetime\n",
    "import random\n",
    "import ctypes\n",
    "import winsound"
   ]
  },
  {
   "cell_type": "code",
   "execution_count": 19,
   "metadata": {},
   "outputs": [],
   "source": [
    "# This driver will call HFS. Log into HFS and navigate to search page.\n",
    "driver = webdriver.Chrome()\n",
    "hfs_url = 'https://ucharm.hfs.washington.edu/ucharm/SelectRoomResults.asp'\n",
    "driver.get(hfs_url)\n",
    "\n",
    "\n",
    "# Define a messageBox\n",
    "def message_box(title, text, style):\n",
    "    return ctypes.windll.user32.MessageBoxW(0, text, title, style)"
   ]
  },
  {
   "cell_type": "code",
   "execution_count": 22,
   "metadata": {},
   "outputs": [],
   "source": [
    "# Initialize variables\n",
    "hasSpot = False\n",
    "countTime = True\n",
    "timeElapsed = 0\n",
    "timeToStop = 28800\n",
    "msg = MIMEText('Go and get your apartment!', 'plain', 'utf-8')\n",
    "msg['From'] = 'hongjunwu@hotmail.com'\n",
    "msg['To'] = 'hongjunwu@hotmail.com'\n",
    "msg['Subject'] = Header(u'[Python] There is an apartment.', 'utf-8').encode()\n",
    "\n",
    "\n",
    "# Make a box to stop\n",
    "ifExit = message_box('Press to stop', 'Stop if you do not want to refresh any more.', 1)  # Print a exit box.\n",
    "\n",
    "\n",
    "# Main program\n",
    "while hasSpot is not True:\n",
    "    # Stop refreshing if the user clicked button in the box.\n",
    "    if ifExit == 1:\n",
    "        hasSpot = True\n",
    "    # Stop if time elapsed equal to time to stop\n",
    "    if timeElapsed == timeToStop:\n",
    "        hasSpot = True\n",
    "    hour = datetime.datetime.now().hour  # Get current time\n",
    "    if 1 < hour < 7:\n",
    "        stopTime = random.randint(250, 350)  # Refreshes slower in midnight and morning\n",
    "    else:\n",
    "        stopTime = random.randint(45, 75)  # Refreshes faster during the day\n",
    "    \n",
    "    timeElapsed += stopTime\n",
    "    try:\n",
    "        text = driver.find_element_by_class_name('Error')  # See if the page still pops out error.\n",
    "        ifExpired = driver.find_element_by_class_name('login')  # Or see if my login is void\n",
    "        if ifExpired:\n",
    "            errorSoundTime = 5\n",
    "            while errorSoundTime is not 0:\n",
    "                winsound.Beep(600, 1000)\n",
    "                errorSoundTime -= 1  # Beep five times to indicate expire\n",
    "            hasSpot = True  # Stop if my login is void.\n",
    "    except NoSuchElementException:\n",
    "        pass  # Stop the program to throw exception.\n",
    "    if text is not None:\n",
    "        time.sleep(stopTime)  # Halt a certain time, so it looks more natural\n",
    "        driver.refresh()  # And refresh the page.\n",
    "    else:\n",
    "        message_box('Apartment found', 'Get your apartment sucker!', 1)  # Print a box\n",
    "        server = smtplib.SMTP('smtp-mail.outlook.com', 587)\n",
    "        server.connect(\"smtp-mail.outlook.com\", 587)\n",
    "        server.ehlo()\n",
    "        server.starttls()\n",
    "        server.ehlo()\n",
    "        server.set_debuglevel(1)\n",
    "        server.login('hongjunwu@hotmail.com', 'wepa4RE2')\n",
    "        server.sendmail('hongjunwu@hotmail.com', ['hongjunwu@hotmail.com'], msg.as_string())\n",
    "        server.quit()\n",
    "        soundTime = 3  # Beep three times\n",
    "        while soundTime is not 0:\n",
    "            winsound.Beep(600, 1000)\n",
    "            soundTime -= 1\n",
    "        hasSpot = True\n",
    "        countTime = False        \n"
   ]
  },
  {
   "cell_type": "code",
   "execution_count": 9,
   "metadata": {},
   "outputs": [],
   "source": [
    ""
   ]
  },
  {
   "cell_type": "code",
   "execution_count": null,
   "metadata": {},
   "outputs": [],
   "source": []
  }
 ],
 "metadata": {
  "kernelspec": {
   "display_name": "Python 2",
   "language": "python",
   "name": "python2"
  },
  "language_info": {
   "codemirror_mode": {
    "name": "ipython",
    "version": 2
   },
   "file_extension": ".py",
   "mimetype": "text/x-python",
   "name": "python",
   "nbconvert_exporter": "python",
   "pygments_lexer": "ipython2",
   "version": "2.7.6"
  }
 },
 "nbformat": 4,
 "nbformat_minor": 0
}
