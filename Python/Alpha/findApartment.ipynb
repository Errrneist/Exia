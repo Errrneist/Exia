{
 "cells": [
  {
   "cell_type": "markdown",
   "metadata": {
    "collapsed": true
   },
   "source": [
    "# I want to find a cedar apartment!!\n",
    "## However, it is full. So what should I do?\n",
    "## Python will help!"
   ]
  },
  {
   "cell_type": "code",
   "execution_count": 10,
   "metadata": {},
   "outputs": [],
   "source": [
    "from selenium import webdriver\n",
    "from selenium.common.exceptions import NoSuchElementException\n",
    "from urllib.request import urlopen\n",
    "import time\n",
    "import datetime\n",
    "import random\n",
    "import ctypes\n",
    "import winsound"
   ]
  },
  {
   "cell_type": "code",
   "execution_count": 11,
   "metadata": {},
   "outputs": [],
   "source": [
    "# This driver will call HFS.\n",
    "driver = webdriver.Chrome()\n",
    "hfs_url = 'https://ucharm.hfs.washington.edu/ucharm/SelectRoomResults.asp'\n",
    "driver.get(hfs_url)"
   ]
  },
  {
   "cell_type": "code",
   "execution_count": 12,
   "metadata": {},
   "outputs": [],
   "source": [
    "# Debug This works!\n",
    "driver.refresh()\n",
    "\n",
    "\n",
    "# Define a messageBox\n",
    "def message_box(title, text, style):\n",
    "    return ctypes.windll.user32.MessageBoxW(0, text, title, style)\n"
   ]
  },
  {
   "cell_type": "code",
   "execution_count": 13,
   "metadata": {},
   "outputs": [
    {
     "ename": "KeyboardInterrupt",
     "evalue": "",
     "traceback": [
      "\u001b[1;31m---------------------------------------------------------------------------\u001b[0m",
      "\u001b[1;31mKeyboardInterrupt\u001b[0m                         Traceback (most recent call last)",
      "\u001b[1;32m<ipython-input-13-ea294ea11ff6>\u001b[0m in \u001b[0;36m<module>\u001b[1;34m()\u001b[0m\n\u001b[0;32m     28\u001b[0m         \u001b[1;32mpass\u001b[0m  \u001b[1;31m# Stop the program to throw exception.\u001b[0m\u001b[1;33m\u001b[0m\u001b[0m\n\u001b[0;32m     29\u001b[0m     \u001b[1;32mif\u001b[0m \u001b[0mtext\u001b[0m \u001b[1;32mis\u001b[0m \u001b[1;32mnot\u001b[0m \u001b[1;32mNone\u001b[0m\u001b[1;33m:\u001b[0m\u001b[1;33m\u001b[0m\u001b[0m\n\u001b[1;32m---> 30\u001b[1;33m         \u001b[0mtime\u001b[0m\u001b[1;33m.\u001b[0m\u001b[0msleep\u001b[0m\u001b[1;33m(\u001b[0m\u001b[0mstopTime\u001b[0m\u001b[1;33m)\u001b[0m  \u001b[1;31m# Halt a certain time, so it looks more natural\u001b[0m\u001b[1;33m\u001b[0m\u001b[0m\n\u001b[0m\u001b[0;32m     31\u001b[0m         \u001b[0mdriver\u001b[0m\u001b[1;33m.\u001b[0m\u001b[0mrefresh\u001b[0m\u001b[1;33m(\u001b[0m\u001b[1;33m)\u001b[0m  \u001b[1;31m# And refresh the page.\u001b[0m\u001b[1;33m\u001b[0m\u001b[0m\n\u001b[0;32m     32\u001b[0m     \u001b[1;32melse\u001b[0m\u001b[1;33m:\u001b[0m\u001b[1;33m\u001b[0m\u001b[0m\n",
      "\u001b[1;31mKeyboardInterrupt\u001b[0m: "
     ],
     "output_type": "error"
    }
   ],
   "source": [
    "# Initial variables\n",
    "hasSpot = False\n",
    "countTime = True\n",
    "timeElapsed = 0\n",
    "timeToStop = 28800\n",
    "# Make a box to stop\n",
    "ifExit = message_box('Press to stop', 'Stop if you don/t want to refresh any more.', 1)  # Print a exit box.\n",
    "\n",
    "while hasSpot is not True:\n",
    "    if ifExit == 1 or 2:\n",
    "        hasSpot = True\n",
    "    # Stop if time elapsed equal to time to stop\n",
    "    if timeElapsed == timeToStop:\n",
    "        hasSpot = True\n",
    "    hour = datetime.datetime.now().hour  # Get current time\n",
    "    if 1 < hour < 7:\n",
    "        stopTime = random.randint(250, 350)  # Refreshes slower in midnight and morning\n",
    "    else:\n",
    "        stopTime = random.randint(45, 75)  # Refreshes faster during the day\n",
    "    \n",
    "    timeElapsed += stopTime\n",
    "    try:\n",
    "        text = driver.find_element_by_class_name('Error')  # See if the page still pops out error.\n",
    "        ifExpired = driver.find_element_by_class_name('login')  # Or see if my login is void\n",
    "        if ifExpired:\n",
    "            errorSoundTime = 5\n",
    "            while errorSoundTime is not 0:\n",
    "                winsound.Beep(600, 1000)\n",
    "                errorSoundTime -= 1  # Beep five times to indicate expire\n",
    "            hasSpot = True  # Stop if my login is void.\n",
    "    except NoSuchElementException:\n",
    "        pass  # Stop the program to throw exception.\n",
    "    if text is not None:\n",
    "        time.sleep(stopTime)  # Halt a certain time, so it looks more natural\n",
    "        driver.refresh()  # And refresh the page.\n",
    "    else:\n",
    "        message_box('Apartment found', 'Get your apartment sucker!', 1)  # Print a box\n",
    "        soundTime = 3  # Beep three times\n",
    "        while soundTime is not 0:\n",
    "            winsound.Beep(600, 1000)\n",
    "            soundTime -= 1\n",
    "        hasSpot = True\n",
    "        countTime = False        \n"
   ]
  },
  {
   "cell_type": "code",
   "execution_count": 9,
   "metadata": {},
   "outputs": [],
   "source": [
    ""
   ]
  },
  {
   "cell_type": "code",
   "execution_count": null,
   "metadata": {},
   "outputs": [],
   "source": []
  }
 ],
 "metadata": {
  "kernelspec": {
   "display_name": "Python 2",
   "language": "python",
   "name": "python2"
  },
  "language_info": {
   "codemirror_mode": {
    "name": "ipython",
    "version": 2
   },
   "file_extension": ".py",
   "mimetype": "text/x-python",
   "name": "python",
   "nbconvert_exporter": "python",
   "pygments_lexer": "ipython2",
   "version": "2.7.6"
  }
 },
 "nbformat": 4,
 "nbformat_minor": 0
}
