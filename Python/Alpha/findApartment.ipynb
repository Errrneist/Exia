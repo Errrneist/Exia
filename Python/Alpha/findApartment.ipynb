{
 "cells": [
  {
   "cell_type": "markdown",
   "metadata": {
    "collapsed": true
   },
   "source": [
    "# I want to find a cedar apartment!!\n",
    "### However, it is full. So what should I do?\n",
    "### Python will help!\n",
    "### It will beep three times, pop out a window, and send an email."
   ]
  },
  {
   "cell_type": "code",
   "execution_count": 1,
   "metadata": {},
   "outputs": [],
   "source": [
    "from selenium import webdriver\n",
    "from selenium.common.exceptions import NoSuchElementException\n",
    "from urllib.request import urlopen\n",
    "from email.header import Header\n",
    "from email.mime.text import MIMEText\n",
    "import smtplib\n",
    "import time\n",
    "import datetime\n",
    "import random\n",
    "import ctypes\n",
    "import winsound"
   ]
  },
  {
   "cell_type": "code",
   "execution_count": 2,
   "metadata": {},
   "outputs": [],
   "source": [
    "# This driver will call HFS. Log into HFS and navigate to search page.\n",
    "driver = webdriver.Chrome()\n",
    "hfs_url = 'https://ucharm.hfs.washington.edu/ucharm/SelectRoomResults.asp'\n",
    "driver.get(hfs_url)\n",
    "\n",
    "\n",
    "# Define a messageBox\n",
    "def message_box(title, text, style):\n",
    "    return ctypes.windll.user32.MessageBoxW(0, text, title, style)"
   ]
  },
  {
   "cell_type": "code",
   "execution_count": 6,
   "metadata": {},
   "outputs": [
    {
     "name": "stderr",
     "output_type": "stream",
     "text": [
      "send: 'AUTH LOGIN aG9uZ2p1bnd1QGhvdG1haWwuY29t\\r\\n'\nreply: b'334 UGFzc3dvcmQ6\\r\\n'\nreply: retcode (334); Msg: b'UGFzc3dvcmQ6'\nsend: 'UEFTU1dPUkQ=\\r\\n'\n"
     ]
    },
    {
     "name": "stderr",
     "output_type": "stream",
     "text": [
      "reply: b'535 5.7.3 Authentication unsuccessful [CY4PR22CA0061.namprd22.prod.outlook.com]\\r\\n'\nreply: retcode (535); Msg: b'5.7.3 Authentication unsuccessful [CY4PR22CA0061.namprd22.prod.outlook.com]'\n"
     ]
    },
    {
     "ename": "SMTPAuthenticationError",
     "evalue": "(535, b'5.7.3 Authentication unsuccessful [CY4PR22CA0061.namprd22.prod.outlook.com]')",
     "traceback": [
      "\u001b[1;31m---------------------------------------------------------------------------\u001b[0m",
      "\u001b[1;31mSMTPAuthenticationError\u001b[0m                   Traceback (most recent call last)",
      "\u001b[1;32m<ipython-input-6-150e2492ec28>\u001b[0m in \u001b[0;36m<module>\u001b[1;34m()\u001b[0m\n\u001b[0;32m     68\u001b[0m         \u001b[0mserver\u001b[0m\u001b[1;33m.\u001b[0m\u001b[0mehlo\u001b[0m\u001b[1;33m(\u001b[0m\u001b[1;33m)\u001b[0m\u001b[1;33m\u001b[0m\u001b[0m\n\u001b[0;32m     69\u001b[0m         \u001b[0mserver\u001b[0m\u001b[1;33m.\u001b[0m\u001b[0mset_debuglevel\u001b[0m\u001b[1;33m(\u001b[0m\u001b[1;36m1\u001b[0m\u001b[1;33m)\u001b[0m\u001b[1;33m\u001b[0m\u001b[0m\n\u001b[1;32m---> 70\u001b[1;33m         \u001b[0mserver\u001b[0m\u001b[1;33m.\u001b[0m\u001b[0mlogin\u001b[0m\u001b[1;33m(\u001b[0m\u001b[1;34m'hongjunwu@hotmail.com'\u001b[0m\u001b[1;33m,\u001b[0m \u001b[1;34m'PASSWORD'\u001b[0m\u001b[1;33m)\u001b[0m\u001b[1;33m\u001b[0m\u001b[0m\n\u001b[0m\u001b[0;32m     71\u001b[0m         \u001b[0mserver\u001b[0m\u001b[1;33m.\u001b[0m\u001b[0msendmail\u001b[0m\u001b[1;33m(\u001b[0m\u001b[1;34m'hongjunwu@hotmail.com'\u001b[0m\u001b[1;33m,\u001b[0m \u001b[1;33m[\u001b[0m\u001b[1;34m'hongjunwu@hotmail.com'\u001b[0m\u001b[1;33m]\u001b[0m\u001b[1;33m,\u001b[0m \u001b[0mmsg\u001b[0m\u001b[1;33m.\u001b[0m\u001b[0mas_string\u001b[0m\u001b[1;33m(\u001b[0m\u001b[1;33m)\u001b[0m\u001b[1;33m)\u001b[0m\u001b[1;33m\u001b[0m\u001b[0m\n\u001b[0;32m     72\u001b[0m         \u001b[0mserver\u001b[0m\u001b[1;33m.\u001b[0m\u001b[0mquit\u001b[0m\u001b[1;33m(\u001b[0m\u001b[1;33m)\u001b[0m\u001b[1;33m\u001b[0m\u001b[0m\n",
      "\u001b[1;32mC:\\Program Files\\Anaconda3\\lib\\smtplib.py\u001b[0m in \u001b[0;36mlogin\u001b[1;34m(self, user, password, initial_response_ok)\u001b[0m\n\u001b[0;32m    727\u001b[0m \u001b[1;33m\u001b[0m\u001b[0m\n\u001b[0;32m    728\u001b[0m         \u001b[1;31m# We could not login successfully.  Return result of last attempt.\u001b[0m\u001b[1;33m\u001b[0m\u001b[1;33m\u001b[0m\u001b[0m\n\u001b[1;32m--> 729\u001b[1;33m         \u001b[1;32mraise\u001b[0m \u001b[0mlast_exception\u001b[0m\u001b[1;33m\u001b[0m\u001b[0m\n\u001b[0m\u001b[0;32m    730\u001b[0m \u001b[1;33m\u001b[0m\u001b[0m\n\u001b[0;32m    731\u001b[0m     \u001b[1;32mdef\u001b[0m \u001b[0mstarttls\u001b[0m\u001b[1;33m(\u001b[0m\u001b[0mself\u001b[0m\u001b[1;33m,\u001b[0m \u001b[0mkeyfile\u001b[0m\u001b[1;33m=\u001b[0m\u001b[1;32mNone\u001b[0m\u001b[1;33m,\u001b[0m \u001b[0mcertfile\u001b[0m\u001b[1;33m=\u001b[0m\u001b[1;32mNone\u001b[0m\u001b[1;33m,\u001b[0m \u001b[0mcontext\u001b[0m\u001b[1;33m=\u001b[0m\u001b[1;32mNone\u001b[0m\u001b[1;33m)\u001b[0m\u001b[1;33m:\u001b[0m\u001b[1;33m\u001b[0m\u001b[0m\n",
      "\u001b[1;32mC:\\Program Files\\Anaconda3\\lib\\smtplib.py\u001b[0m in \u001b[0;36mlogin\u001b[1;34m(self, user, password, initial_response_ok)\u001b[0m\n\u001b[0;32m    718\u001b[0m                 (code, resp) = self.auth(\n\u001b[0;32m    719\u001b[0m                     \u001b[0mauthmethod\u001b[0m\u001b[1;33m,\u001b[0m \u001b[0mgetattr\u001b[0m\u001b[1;33m(\u001b[0m\u001b[0mself\u001b[0m\u001b[1;33m,\u001b[0m \u001b[0mmethod_name\u001b[0m\u001b[1;33m)\u001b[0m\u001b[1;33m,\u001b[0m\u001b[1;33m\u001b[0m\u001b[0m\n\u001b[1;32m--> 720\u001b[1;33m                     initial_response_ok=initial_response_ok)\n\u001b[0m\u001b[0;32m    721\u001b[0m                 \u001b[1;31m# 235 == 'Authentication successful'\u001b[0m\u001b[1;33m\u001b[0m\u001b[1;33m\u001b[0m\u001b[0m\n\u001b[0;32m    722\u001b[0m                 \u001b[1;31m# 503 == 'Error: already authenticated'\u001b[0m\u001b[1;33m\u001b[0m\u001b[1;33m\u001b[0m\u001b[0m\n",
      "\u001b[1;32mC:\\Program Files\\Anaconda3\\lib\\smtplib.py\u001b[0m in \u001b[0;36mauth\u001b[1;34m(self, mechanism, authobject, initial_response_ok)\u001b[0m\n\u001b[0;32m    639\u001b[0m         \u001b[1;32mif\u001b[0m \u001b[0mcode\u001b[0m \u001b[1;32min\u001b[0m \u001b[1;33m(\u001b[0m\u001b[1;36m235\u001b[0m\u001b[1;33m,\u001b[0m \u001b[1;36m503\u001b[0m\u001b[1;33m)\u001b[0m\u001b[1;33m:\u001b[0m\u001b[1;33m\u001b[0m\u001b[0m\n\u001b[0;32m    640\u001b[0m             \u001b[1;32mreturn\u001b[0m \u001b[1;33m(\u001b[0m\u001b[0mcode\u001b[0m\u001b[1;33m,\u001b[0m \u001b[0mresp\u001b[0m\u001b[1;33m)\u001b[0m\u001b[1;33m\u001b[0m\u001b[0m\n\u001b[1;32m--> 641\u001b[1;33m         \u001b[1;32mraise\u001b[0m \u001b[0mSMTPAuthenticationError\u001b[0m\u001b[1;33m(\u001b[0m\u001b[0mcode\u001b[0m\u001b[1;33m,\u001b[0m \u001b[0mresp\u001b[0m\u001b[1;33m)\u001b[0m\u001b[1;33m\u001b[0m\u001b[0m\n\u001b[0m\u001b[0;32m    642\u001b[0m \u001b[1;33m\u001b[0m\u001b[0m\n\u001b[0;32m    643\u001b[0m     \u001b[1;32mdef\u001b[0m \u001b[0mauth_cram_md5\u001b[0m\u001b[1;33m(\u001b[0m\u001b[0mself\u001b[0m\u001b[1;33m,\u001b[0m \u001b[0mchallenge\u001b[0m\u001b[1;33m=\u001b[0m\u001b[1;32mNone\u001b[0m\u001b[1;33m)\u001b[0m\u001b[1;33m:\u001b[0m\u001b[1;33m\u001b[0m\u001b[0m\n",
      "\u001b[1;31mSMTPAuthenticationError\u001b[0m: (535, b'5.7.3 Authentication unsuccessful [CY4PR22CA0061.namprd22.prod.outlook.com]')"
     ],
     "output_type": "error"
    }
   ],
   "source": [
    "# Initialize variables\n",
    "hasSpot = False\n",
    "countTime = True\n",
    "text = ''\n",
    "timeElapsed = 0\n",
    "timeToStop = 28800\n",
    "msg = MIMEText('Go and get your apartment!', 'plain', 'utf-8')\n",
    "msg['From'] = 'hongjunwu@hotmail.com'\n",
    "msg['To'] = 'hongjunwu@hotmail.com'\n",
    "msg['Subject'] = Header(u'[Python] There is an apartment.', 'utf-8').encode()\n",
    "\n",
    "\n",
    "# Make a box to stop\n",
    "# ifExit = message_box('Press to stop', 'Stop if you do not want to refresh any more.', 1)  # Print a exit box.\n",
    "\n",
    "\n",
    "# Main program\n",
    "while hasSpot is not True:\n",
    "    # Stop refreshing if the user clicked button in the box.\n",
    "    if ifExit == 1:\n",
    "        hasSpot = True\n",
    "        \n",
    "    # Stop if time elapsed equal to time to stop\n",
    "    if timeElapsed == timeToStop:\n",
    "        hasSpot = True\n",
    "    hour = datetime.datetime.now().hour  # Get current time\n",
    "    if 1 < hour < 7:\n",
    "        stopTime = random.randint(250, 350)  # Refreshes slower in midnight and morning\n",
    "    else:\n",
    "        stopTime = random.randint(1, 10)  # Refreshes faster during the day\n",
    "    timeElapsed += stopTime\n",
    "    \n",
    "    # Detect error on page\n",
    "    try:\n",
    "        # See if the page still pops out error.\n",
    "        text = driver.find_element_by_class_name('Error') \n",
    "        \n",
    "        # Or see if my login is void\n",
    "        ifExpired = driver.find_element_by_class_name('login')  \n",
    "        \n",
    "        # Stop if credential expired\n",
    "        if ifExpired:\n",
    "            errorSoundTime = 5\n",
    "            while errorSoundTime is not 0:\n",
    "                winsound.Beep(600, 1000)\n",
    "                errorSoundTime -= 1  # Beep five times to indicate expire\n",
    "            hasSpot = True  # Stop if my login is void.\n",
    "            \n",
    "    # Neglect if throw NoSuchElementException\n",
    "    except NoSuchElementException:\n",
    "        pass  # Stop the program to throw exception.\n",
    "    \n",
    "    # If still does not have space, keep refreshing\n",
    "    if not text:\n",
    "        time.sleep(stopTime)  # Halt a certain time, so it looks more natural\n",
    "        driver.refresh()  # And refresh the page.\n",
    "        \n",
    "    # Otherwise if there is a space, execute the following responses.\n",
    "    else:\n",
    "        # Print a box\n",
    "        message_box('Apartment found', 'Get your apartment sucker!', 1)  \n",
    "        \n",
    "        # Send an email\n",
    "        server = smtplib.SMTP('smtp-mail.outlook.com', 587)\n",
    "        server.connect(\"smtp-mail.outlook.com\", 587)\n",
    "        server.ehlo()\n",
    "        server.starttls()\n",
    "        server.ehlo()\n",
    "        server.set_debuglevel(1)\n",
    "        server.login('hongjunwu@hotmail.com', 'PASSWORD')\n",
    "        server.sendmail('hongjunwu@hotmail.com', ['hongjunwu@hotmail.com'], msg.as_string())\n",
    "        server.quit()\n",
    "        \n",
    "        # Beep three times\n",
    "        soundTime = 3  # Beep three times\n",
    "        while soundTime is not 0:\n",
    "            winsound.Beep(600, 1000)\n",
    "            soundTime -= 1\n",
    "            \n",
    "        # Stop refreshing\n",
    "        hasSpot = True\n",
    "        countTime = False        \n"
   ]
  },
  {
   "cell_type": "code",
   "execution_count": 9,
   "metadata": {},
   "outputs": [],
   "source": [
    ""
   ]
  },
  {
   "cell_type": "code",
   "execution_count": null,
   "metadata": {},
   "outputs": [],
   "source": []
  }
 ],
 "metadata": {
  "kernelspec": {
   "display_name": "Python 2",
   "language": "python",
   "name": "python2"
  },
  "language_info": {
   "codemirror_mode": {
    "name": "ipython",
    "version": 2
   },
   "file_extension": ".py",
   "mimetype": "text/x-python",
   "name": "python",
   "nbconvert_exporter": "python",
   "pygments_lexer": "ipython2",
   "version": "2.7.6"
  }
 },
 "nbformat": 4,
 "nbformat_minor": 0
}
