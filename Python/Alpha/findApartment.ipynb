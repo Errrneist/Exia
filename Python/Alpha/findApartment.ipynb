{
 "cells": [
  {
   "cell_type": "markdown",
   "metadata": {
    "collapsed": true
   },
   "source": [
    "# I want to find a cedar apartment!!\n",
    "## However, it is full. So what should I do?\n",
    "## Python will help!"
   ]
  },
  {
   "cell_type": "code",
   "execution_count": 1,
   "metadata": {},
   "outputs": [],
   "source": [
    "from selenium import webdriver\n",
    "from selenium.common.exceptions import NoSuchElementException\n",
    "from urllib.request import urlopen\n",
    "import time\n",
    "import random\n",
    "import ctypes\n",
    "import winsound"
   ]
  },
  {
   "cell_type": "code",
   "execution_count": 2,
   "metadata": {},
   "outputs": [],
   "source": [
    "# This driver will call HFS.\n",
    "driver = webdriver.Chrome()\n",
    "hfs_url = 'https://ucharm.hfs.washington.edu/ucharm/SelectRoomResults.asp'\n",
    "driver.get(hfs_url)"
   ]
  },
  {
   "cell_type": "code",
   "execution_count": 3,
   "metadata": {},
   "outputs": [],
   "source": [
    "# Debug This works!\n",
    "driver.refresh()\n",
    "\n",
    "\n",
    "# Define a messageBox\n",
    "def message_box(title, text, style):\n",
    "    return ctypes.windll.user32.MessageBoxW(0, text, title, style)\n"
   ]
  },
  {
   "cell_type": "code",
   "execution_count": 5,
   "metadata": {},
   "outputs": [],
   "source": [
    "hasSpot = False\n",
    "countTime = True\n",
    "timeElapsed = 0\n",
    "timeToStop = 28800\n",
    "\n",
    "while hasSpot is not True:\n",
    "    if timeElapsed == timeToStop:\n",
    "        hasSpot = True\n",
    "    stopTime = random.randint(10, 20)\n",
    "    timeElapsed += stopTime\n",
    "    try:\n",
    "        text = driver.find_element_by_class_name('Error')\n",
    "    except NoSuchElementException:\n",
    "        pass\n",
    "    if text is not None:\n",
    "        time.sleep(stopTime)\n",
    "        driver.refresh()\n",
    "    else:\n",
    "        print('Get your apartment sucker!')\n",
    "        message_box('Apartment found', 'Go get it!', 1)\n",
    "        soundTime = 3\n",
    "        while soundTime is not 0:\n",
    "            winsound.Beep(600, 1000)\n",
    "            soundTime -= 1\n",
    "        hasSpot = True\n",
    "        countTime = False        \n"
   ]
  },
  {
   "cell_type": "code",
   "execution_count": 9,
   "metadata": {},
   "outputs": [],
   "source": [
    ""
   ]
  },
  {
   "cell_type": "code",
   "execution_count": null,
   "metadata": {},
   "outputs": [],
   "source": []
  }
 ],
 "metadata": {
  "kernelspec": {
   "display_name": "Python 2",
   "language": "python",
   "name": "python2"
  },
  "language_info": {
   "codemirror_mode": {
    "name": "ipython",
    "version": 2
   },
   "file_extension": ".py",
   "mimetype": "text/x-python",
   "name": "python",
   "nbconvert_exporter": "python",
   "pygments_lexer": "ipython2",
   "version": "2.7.6"
  }
 },
 "nbformat": 4,
 "nbformat_minor": 0
}
