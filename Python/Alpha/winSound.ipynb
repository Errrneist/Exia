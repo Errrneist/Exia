{
 "cells": [
  {
   "cell_type": "code",
   "execution_count": 8,
   "metadata": {
    "collapsed": true
   },
   "outputs": [],
   "source": [
    "import winsound\n",
    "import ctypes"
   ]
  },
  {
   "cell_type": "code",
   "execution_count": 19,
   "metadata": {},
   "outputs": [],
   "source": [
    "winsound.Beep(600, 1000)\n",
    "soundTime = 3\n",
    "while soundTime is not 0:\n",
    "    winsound.Beep(600, 1000)\n",
    "    soundTime -= 1"
   ]
  },
  {
   "cell_type": "code",
   "execution_count": 20,
   "metadata": {},
   "outputs": [],
   "source": [
    "def message_box(title, text, style):\n",
    "    return ctypes.windll.user32.MessageBoxW(0, text, title, style)"
   ]
  },
  {
   "cell_type": "code",
   "execution_count": 21,
   "metadata": {},
   "outputs": [
    {
     "data": {
      "text/plain": [
       "1"
      ]
     },
     "execution_count": 21,
     "metadata": {},
     "output_type": "execute_result"
    }
   ],
   "source": [
    "message_box('Apartment found', 'Sucker!', 1)"
   ]
  },
  {
   "cell_type": "code",
   "execution_count": 18,
   "metadata": {},
   "outputs": [
    {
     "ename": "NameError",
     "evalue": "name 'unicode' is not defined",
     "traceback": [
      "\u001b[1;31m---------------------------------------------------------------------------\u001b[0m",
      "\u001b[1;31mNameError\u001b[0m                                 Traceback (most recent call last)",
      "\u001b[1;32m<ipython-input-18-0f4ee4a5e33b>\u001b[0m in \u001b[0;36m<module>\u001b[1;34m()\u001b[0m\n\u001b[0;32m     21\u001b[0m \u001b[1;33m\u001b[0m\u001b[0m\n\u001b[0;32m     22\u001b[0m \u001b[0mmsg\u001b[0m \u001b[1;33m=\u001b[0m \u001b[0mMIMEText\u001b[0m\u001b[1;33m(\u001b[0m\u001b[1;34m'hello, send by Python...'\u001b[0m\u001b[1;33m,\u001b[0m \u001b[1;34m'plain'\u001b[0m\u001b[1;33m,\u001b[0m \u001b[1;34m'utf-8'\u001b[0m\u001b[1;33m)\u001b[0m\u001b[1;33m\u001b[0m\u001b[0m\n\u001b[1;32m---> 23\u001b[1;33m \u001b[0mmsg\u001b[0m\u001b[1;33m[\u001b[0m\u001b[1;34m'From'\u001b[0m\u001b[1;33m]\u001b[0m \u001b[1;33m=\u001b[0m \u001b[0m_format_addr\u001b[0m\u001b[1;33m(\u001b[0m\u001b[1;34mu'Python <%s>'\u001b[0m \u001b[1;33m%\u001b[0m \u001b[0mfrom_addr\u001b[0m\u001b[1;33m)\u001b[0m\u001b[1;33m\u001b[0m\u001b[0m\n\u001b[0m\u001b[0;32m     24\u001b[0m \u001b[0mmsg\u001b[0m\u001b[1;33m[\u001b[0m\u001b[1;34m'To'\u001b[0m\u001b[1;33m]\u001b[0m \u001b[1;33m=\u001b[0m \u001b[0m_format_addr\u001b[0m\u001b[1;33m(\u001b[0m\u001b[1;34mu'Errrneist <%s>'\u001b[0m \u001b[1;33m%\u001b[0m \u001b[0mto_addr\u001b[0m\u001b[1;33m)\u001b[0m\u001b[1;33m\u001b[0m\u001b[0m\n\u001b[0;32m     25\u001b[0m \u001b[0mmsg\u001b[0m\u001b[1;33m[\u001b[0m\u001b[1;34m'Subject'\u001b[0m\u001b[1;33m]\u001b[0m \u001b[1;33m=\u001b[0m \u001b[0mHeader\u001b[0m\u001b[1;33m(\u001b[0m\u001b[1;34mu'[Python] There is an apartment.'\u001b[0m\u001b[1;33m,\u001b[0m \u001b[1;34m'utf-8'\u001b[0m\u001b[1;33m)\u001b[0m\u001b[1;33m.\u001b[0m\u001b[0mencode\u001b[0m\u001b[1;33m(\u001b[0m\u001b[1;33m)\u001b[0m\u001b[1;33m\u001b[0m\u001b[0m\n",
      "\u001b[1;32m<ipython-input-18-0f4ee4a5e33b>\u001b[0m in \u001b[0;36m_format_addr\u001b[1;34m(s)\u001b[0m\n\u001b[0;32m     12\u001b[0m     return formataddr(( \n\u001b[0;32m     13\u001b[0m         \u001b[0mHeader\u001b[0m\u001b[1;33m(\u001b[0m\u001b[0mname\u001b[0m\u001b[1;33m,\u001b[0m \u001b[1;34m'utf-8'\u001b[0m\u001b[1;33m)\u001b[0m\u001b[1;33m.\u001b[0m\u001b[0mencode\u001b[0m\u001b[1;33m(\u001b[0m\u001b[1;33m)\u001b[0m\u001b[1;33m,\u001b[0m\u001b[1;33m\u001b[0m\u001b[0m\n\u001b[1;32m---> 14\u001b[1;33m         addr.encode('utf-8') if isinstance(addr, unicode) else addr))\n\u001b[0m\u001b[0;32m     15\u001b[0m \u001b[1;33m\u001b[0m\u001b[0m\n\u001b[0;32m     16\u001b[0m \u001b[1;33m\u001b[0m\u001b[0m\n",
      "\u001b[1;31mNameError\u001b[0m: name 'unicode' is not defined"
     ],
     "output_type": "error"
    }
   ],
   "source": [
    "# -*- coding: utf-8 -*-\n",
    "\n",
    "from email import encoders\n",
    "from email.header import Header\n",
    "from email.mime.text import MIMEText\n",
    "from email.utils import parseaddr, formataddr\n",
    "import smtplib\n",
    "\n",
    "\n",
    "def _format_addr(s):\n",
    "    name, addr = parseaddr(s)\n",
    "    return formataddr(( \n",
    "        Header(name, 'utf-8').encode(), \n",
    "        addr.encode('utf-8') if isinstance(addr, unicode) else addr))\n",
    "\n",
    "\n",
    "from_addr = 'hongjunwu@hotmail.com'\n",
    "password = 'wepa4RE2'\n",
    "to_addr = 'hongjunwu@hotmail.com'\n",
    "smtp_server = 'smtp-mail.outlook.com'\n",
    "\n",
    "msg = MIMEText('hello, send by Python...', 'plain', 'utf-8')\n",
    "msg['From'] = _format_addr(u'Python <%s>' % from_addr)\n",
    "msg['To'] = _format_addr(u'Errrneist <%s>' % to_addr)\n",
    "msg['Subject'] = Header(u'[Python] There is an apartment.', 'utf-8').encode()\n",
    "\n",
    "server = smtplib.SMTP(smtp_server, 25)\n",
    "server.set_debuglevel(1)\n",
    "server.login(from_addr, password)\n",
    "server.sendmail(from_addr, [to_addr], msg.as_string())\n",
    "server.quit()"
   ]
  },
  {
   "cell_type": "code",
   "execution_count": 25,
   "metadata": {},
   "outputs": [
    {
     "name": "stderr",
     "output_type": "stream",
     "text": [
      "send: 'AUTH LOGIN aG9uZ2p1bnd1QGhvdG1haWwuY29t\\r\\n'\nreply: b'334 UGFzc3dvcmQ6\\r\\n'\nreply: retcode (334); Msg: b'UGFzc3dvcmQ6'\nsend: 'd2VwYTRSRTI=\\r\\n'\n"
     ]
    },
    {
     "name": "stderr",
     "output_type": "stream",
     "text": [
      "reply: b'235 2.7.0 Authentication successful\\r\\n'\nreply: retcode (235); Msg: b'2.7.0 Authentication successful'\nsend: 'mail FROM:<hongjunwu@hotmail.com> size=249\\r\\n'\nreply: b'250 2.1.0 Sender OK\\r\\n'\nreply: retcode (250); Msg: b'2.1.0 Sender OK'\nsend: 'rcpt TO:<hongjunwu@hotmail.com>\\r\\n'\nreply: b'250 2.1.5 Recipient OK\\r\\n'\nreply: retcode (250); Msg: b'2.1.5 Recipient OK'\nsend: 'data\\r\\n'\n"
     ]
    },
    {
     "name": "stderr",
     "output_type": "stream",
     "text": [
      "reply: b'354 Start mail input; end with <CRLF>.<CRLF>\\r\\n'\nreply: retcode (354); Msg: b'Start mail input; end with <CRLF>.<CRLF>'\ndata: (354, b'Start mail input; end with <CRLF>.<CRLF>')\nsend: b'Content-Type: text/plain; charset=\"utf-8\"\\r\\nMIME-Version: 1.0\\r\\nContent-Transfer-Encoding: base64\\r\\nFrom: hongjunwu@hotmail.com\\r\\nTo: hongjunwu@hotmail.com\\r\\nSubject: =?utf-8?q?=5BPython=5D_There_is_an_apartment=2E?=\\r\\n\\r\\naGVsbG8sIHNlbmQgYnkgUHl0aG9uLi4u\\r\\n.\\r\\n'\n"
     ]
    },
    {
     "name": "stderr",
     "output_type": "stream",
     "text": [
      "reply: b'250 2.0.0 OK <BN1PR0301MB0659ECED69DBC0D79CD51B81B28D0@BN1PR0301MB0659.namprd03.prod.outlook.com> [Hostname=BN1PR0301MB0659.namprd03.prod.outlook.com]\\r\\n'\nreply: retcode (250); Msg: b'2.0.0 OK <BN1PR0301MB0659ECED69DBC0D79CD51B81B28D0@BN1PR0301MB0659.namprd03.prod.outlook.com> [Hostname=BN1PR0301MB0659.namprd03.prod.outlook.com]'\ndata: (250, b'2.0.0 OK <BN1PR0301MB0659ECED69DBC0D79CD51B81B28D0@BN1PR0301MB0659.namprd03.prod.outlook.com> [Hostname=BN1PR0301MB0659.namprd03.prod.outlook.com]')\nsend: 'quit\\r\\n'\nreply: b'221 2.0.0 Service closing transmission channel\\r\\n'\nreply: retcode (221); Msg: b'2.0.0 Service closing transmission channel'\n"
     ]
    },
    {
     "data": {
      "text/plain": [
       "(221, b'2.0.0 Service closing transmission channel')"
      ]
     },
     "execution_count": 25,
     "metadata": {},
     "output_type": "execute_result"
    }
   ],
   "source": [
    "from email import encoders\n",
    "from email.header import Header\n",
    "from email.mime.text import MIMEText\n",
    "from email.utils import parseaddr, formataddr\n",
    "import smtplib\n",
    "\n",
    "\n",
    "msg = MIMEText('Go and get your apartment!', 'plain', 'utf-8')\n",
    "msg['From'] = 'hongjunwu@hotmail.com'\n",
    "msg['To'] = 'hongjunwu@hotmail.com'\n",
    "msg['Subject'] = Header(u'[Python] There is an apartment.', 'utf-8').encode()\n",
    "\n",
    "\n",
    "server = smtplib.SMTP('smtp-mail.outlook.com', 587)\n",
    "server.connect(\"smtp-mail.outlook.com\", 587)\n",
    "server.ehlo()\n",
    "server.starttls()\n",
    "server.ehlo()\n",
    "server.set_debuglevel(1)\n",
    "server.login('hongjunwu@hotmail.com', 'wepa4RE2')\n",
    "server.sendmail('hongjunwu@hotmail.com', ['hongjunwu@hotmail.com'], msg.as_string())\n",
    "server.quit()"
   ]
  },
  {
   "cell_type": "code",
   "execution_count": null,
   "metadata": {},
   "outputs": [],
   "source": []
  }
 ],
 "metadata": {
  "kernelspec": {
   "display_name": "Python 2",
   "language": "python",
   "name": "python2"
  },
  "language_info": {
   "codemirror_mode": {
    "name": "ipython",
    "version": 2
   },
   "file_extension": ".py",
   "mimetype": "text/x-python",
   "name": "python",
   "nbconvert_exporter": "python",
   "pygments_lexer": "ipython2",
   "version": "2.7.6"
  }
 },
 "nbformat": 4,
 "nbformat_minor": 0
}
