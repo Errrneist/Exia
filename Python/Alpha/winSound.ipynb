{
 "cells": [
  {
   "cell_type": "code",
   "execution_count": 1,
   "metadata": {
    "collapsed": true
   },
   "outputs": [],
   "source": [
    "import winsound\n",
    "import ctypes"
   ]
  },
  {
   "cell_type": "code",
   "execution_count": 5,
   "metadata": {},
   "outputs": [],
   "source": [
    "winsound.Beep(600, 1000)\n",
    "soundTime = 3\n",
    "while soundTime is not 0:\n",
    "    winsound.Beep(600, 1000)\n",
    "    soundTime -= 1"
   ]
  },
  {
   "cell_type": "code",
   "execution_count": 3,
   "metadata": {},
   "outputs": [],
   "source": [
    "def message_box(title, text, style):\n",
    "    return ctypes.windll.user32.MessageBoxW(0, text, title, style)"
   ]
  },
  {
   "cell_type": "code",
   "execution_count": 4,
   "metadata": {},
   "outputs": [
    {
     "data": {
      "text/plain": [
       "1"
      ]
     },
     "execution_count": 4,
     "metadata": {},
     "output_type": "execute_result"
    }
   ],
   "source": [
    "message_box('Apartment found', 'Sucker!', 1)"
   ]
  },
  {
   "cell_type": "code",
   "execution_count": 28,
   "metadata": {},
   "outputs": [],
   "source": [
    ""
   ]
  },
  {
   "cell_type": "code",
   "execution_count": 28,
   "metadata": {},
   "outputs": [
    {
     "name": "stderr",
     "output_type": "stream",
     "text": [
      "send: 'AUTH LOGIN aG9uZ2p1bnd1QGhvdG1haWwuY29t\\r\\n'\nreply: b'334 UGFzc3dvcmQ6\\r\\n'\nreply: retcode (334); Msg: b'UGFzc3dvcmQ6'\nsend: 'd2VwYTRSRTI=\\r\\n'\n"
     ]
    },
    {
     "name": "stderr",
     "output_type": "stream",
     "text": [
      "reply: b'235 2.7.0 Authentication successful\\r\\n'\nreply: retcode (235); Msg: b'2.7.0 Authentication successful'\nsend: 'mail FROM:<hongjunwu@hotmail.com> size=231\\r\\n'\nreply: b'250 2.1.0 Sender OK\\r\\n'\nreply: retcode (250); Msg: b'2.1.0 Sender OK'\nsend: 'rcpt TO:<hongjunwu@hotmail.com>\\r\\n'\nreply: b'250 2.1.5 Recipient OK\\r\\n'\nreply: retcode (250); Msg: b'2.1.5 Recipient OK'\nsend: 'data\\r\\n'\n"
     ]
    },
    {
     "name": "stderr",
     "output_type": "stream",
     "text": [
      "reply: b'354 Start mail input; end with <CRLF>.<CRLF>\\r\\n'\nreply: retcode (354); Msg: b'Start mail input; end with <CRLF>.<CRLF>'\ndata: (354, b'Start mail input; end with <CRLF>.<CRLF>')\nsend: b'Content-Type: text/plain; charset=\"utf-8\"\\r\\nMIME-Version: 1.0\\r\\nContent-Transfer-Encoding: base64\\r\\nFrom: hongjunwu@hotmail.com\\r\\nTo: hongjunwu@hotmail.com\\r\\nSubject: =?utf-8?q?=5BPython=5D_This_is_a_test_message?=\\r\\n\\r\\nVGVzdCBtZXNzYWdl\\r\\n.\\r\\n'\n"
     ]
    },
    {
     "name": "stderr",
     "output_type": "stream",
     "text": [
      "reply: b'250 2.0.0 OK <BN1PR0301MB0659F86BE90B72F1DE450F65B28C0@BN1PR0301MB0659.namprd03.prod.outlook.com> [Hostname=BN1PR0301MB0659.namprd03.prod.outlook.com]\\r\\n'\nreply: retcode (250); Msg: b'2.0.0 OK <BN1PR0301MB0659F86BE90B72F1DE450F65B28C0@BN1PR0301MB0659.namprd03.prod.outlook.com> [Hostname=BN1PR0301MB0659.namprd03.prod.outlook.com]'\ndata: (250, b'2.0.0 OK <BN1PR0301MB0659F86BE90B72F1DE450F65B28C0@BN1PR0301MB0659.namprd03.prod.outlook.com> [Hostname=BN1PR0301MB0659.namprd03.prod.outlook.com]')\nsend: 'mail FROM:<hongjunwu@hotmail.com> size=231\\r\\n'\nreply: b'250 2.1.0 Sender OK\\r\\n'\nreply: retcode (250); Msg: b'2.1.0 Sender OK'\nsend: 'rcpt TO:<wd22@uw.edu>\\r\\n'\nreply: b'250 2.1.5 Recipient OK\\r\\n'\nreply: retcode (250); Msg: b'2.1.5 Recipient OK'\nsend: 'data\\r\\n'\n"
     ]
    },
    {
     "name": "stderr",
     "output_type": "stream",
     "text": [
      "reply: b'354 Start mail input; end with <CRLF>.<CRLF>\\r\\n'\nreply: retcode (354); Msg: b'Start mail input; end with <CRLF>.<CRLF>'\ndata: (354, b'Start mail input; end with <CRLF>.<CRLF>')\nsend: b'Content-Type: text/plain; charset=\"utf-8\"\\r\\nMIME-Version: 1.0\\r\\nContent-Transfer-Encoding: base64\\r\\nFrom: hongjunwu@hotmail.com\\r\\nTo: hongjunwu@hotmail.com\\r\\nSubject: =?utf-8?q?=5BPython=5D_This_is_a_test_message?=\\r\\n\\r\\nVGVzdCBtZXNzYWdl\\r\\n.\\r\\n'\n"
     ]
    },
    {
     "name": "stderr",
     "output_type": "stream",
     "text": [
      "reply: b'250 2.0.0 OK <BN1PR0301MB065919728DEB0EF5755A1BBCB28C0@BN1PR0301MB0659.namprd03.prod.outlook.com> [Hostname=BN1PR0301MB0659.namprd03.prod.outlook.com]\\r\\n'\nreply: retcode (250); Msg: b'2.0.0 OK <BN1PR0301MB065919728DEB0EF5755A1BBCB28C0@BN1PR0301MB0659.namprd03.prod.outlook.com> [Hostname=BN1PR0301MB0659.namprd03.prod.outlook.com]'\ndata: (250, b'2.0.0 OK <BN1PR0301MB065919728DEB0EF5755A1BBCB28C0@BN1PR0301MB0659.namprd03.prod.outlook.com> [Hostname=BN1PR0301MB0659.namprd03.prod.outlook.com]')\nsend: 'mail FROM:<hongjunwu@hotmail.com> size=231\\r\\n'\nreply: b'250 2.1.0 Sender OK\\r\\n'\nreply: retcode (250); Msg: b'2.1.0 Sender OK'\nsend: 'rcpt TO:<xiaq2@uw.edu>\\r\\n'\nreply: b'250 2.1.5 Recipient OK\\r\\n'\nreply: retcode (250); Msg: b'2.1.5 Recipient OK'\nsend: 'data\\r\\n'\n"
     ]
    },
    {
     "name": "stderr",
     "output_type": "stream",
     "text": [
      "reply: b'354 Start mail input; end with <CRLF>.<CRLF>\\r\\n'\nreply: retcode (354); Msg: b'Start mail input; end with <CRLF>.<CRLF>'\ndata: (354, b'Start mail input; end with <CRLF>.<CRLF>')\nsend: b'Content-Type: text/plain; charset=\"utf-8\"\\r\\nMIME-Version: 1.0\\r\\nContent-Transfer-Encoding: base64\\r\\nFrom: hongjunwu@hotmail.com\\r\\nTo: hongjunwu@hotmail.com\\r\\nSubject: =?utf-8?q?=5BPython=5D_This_is_a_test_message?=\\r\\n\\r\\nVGVzdCBtZXNzYWdl\\r\\n.\\r\\n'\n"
     ]
    },
    {
     "name": "stderr",
     "output_type": "stream",
     "text": [
      "reply: b'250 2.0.0 OK <BN1PR0301MB0659B7BC8F6345FF803DFB6DB28C0@BN1PR0301MB0659.namprd03.prod.outlook.com> [Hostname=BN1PR0301MB0659.namprd03.prod.outlook.com]\\r\\n'\nreply: retcode (250); Msg: b'2.0.0 OK <BN1PR0301MB0659B7BC8F6345FF803DFB6DB28C0@BN1PR0301MB0659.namprd03.prod.outlook.com> [Hostname=BN1PR0301MB0659.namprd03.prod.outlook.com]'\ndata: (250, b'2.0.0 OK <BN1PR0301MB0659B7BC8F6345FF803DFB6DB28C0@BN1PR0301MB0659.namprd03.prod.outlook.com> [Hostname=BN1PR0301MB0659.namprd03.prod.outlook.com]')\nsend: 'mail FROM:<hongjunwu@hotmail.com> size=231\\r\\n'\nreply: b'250 2.1.0 Sender OK\\r\\n'\nreply: retcode (250); Msg: b'2.1.0 Sender OK'\nsend: 'rcpt TO:<zechez2@uw.edu>\\r\\n'\n"
     ]
    },
    {
     "name": "stderr",
     "output_type": "stream",
     "text": [
      "reply: b'250 2.1.5 Recipient OK\\r\\n'\nreply: retcode (250); Msg: b'2.1.5 Recipient OK'\nsend: 'data\\r\\n'\nreply: b'354 Start mail input; end with <CRLF>.<CRLF>\\r\\n'\nreply: retcode (354); Msg: b'Start mail input; end with <CRLF>.<CRLF>'\ndata: (354, b'Start mail input; end with <CRLF>.<CRLF>')\nsend: b'Content-Type: text/plain; charset=\"utf-8\"\\r\\nMIME-Version: 1.0\\r\\nContent-Transfer-Encoding: base64\\r\\nFrom: hongjunwu@hotmail.com\\r\\nTo: hongjunwu@hotmail.com\\r\\nSubject: =?utf-8?q?=5BPython=5D_This_is_a_test_message?=\\r\\n\\r\\nVGVzdCBtZXNzYWdl\\r\\n.\\r\\n'\n"
     ]
    },
    {
     "name": "stderr",
     "output_type": "stream",
     "text": [
      "reply: b'250 2.0.0 OK <BN1PR0301MB06590ABB5A7B9CCFC6DBE9A4B28C0@BN1PR0301MB0659.namprd03.prod.outlook.com> [Hostname=BN1PR0301MB0659.namprd03.prod.outlook.com]\\r\\n'\nreply: retcode (250); Msg: b'2.0.0 OK <BN1PR0301MB06590ABB5A7B9CCFC6DBE9A4B28C0@BN1PR0301MB0659.namprd03.prod.outlook.com> [Hostname=BN1PR0301MB0659.namprd03.prod.outlook.com]'\ndata: (250, b'2.0.0 OK <BN1PR0301MB06590ABB5A7B9CCFC6DBE9A4B28C0@BN1PR0301MB0659.namprd03.prod.outlook.com> [Hostname=BN1PR0301MB0659.namprd03.prod.outlook.com]')\nsend: 'quit\\r\\n'\nreply: b'221 2.0.0 Service closing transmission channel\\r\\n'\nreply: retcode (221); Msg: b'2.0.0 Service closing transmission channel'\n"
     ]
    },
    {
     "data": {
      "text/plain": [
       "(221, b'2.0.0 Service closing transmission channel')"
      ]
     },
     "execution_count": 28,
     "metadata": {},
     "output_type": "execute_result"
    }
   ],
   "source": [
    "from email import encoders\n",
    "from email.header import Header\n",
    "from email.mime.text import MIMEText\n",
    "from email.utils import parseaddr, formataddr\n",
    "import smtplib\n",
    "\n",
    "\n",
    "msg = MIMEText('Test message', 'plain', 'utf-8')\n",
    "msg['From'] = 'hongjunwu@hotmail.com'\n",
    "msg['To'] = 'hongjunwu@hotmail.com'\n",
    "msg['Subject'] = Header(u'[Python] This is a test message', 'utf-8').encode()\n",
    "\n",
    "\n",
    "server = smtplib.SMTP('smtp-mail.outlook.com', 587)\n",
    "server.connect(\"smtp-mail.outlook.com\", 587)\n",
    "server.ehlo()\n",
    "server.starttls()\n",
    "server.ehlo()\n",
    "server.set_debuglevel(1)\n",
    "server.login('hongjunwu@hotmail.com', 'wepa4RE2')\n",
    "server.sendmail('hongjunwu@hotmail.com', ['hongjunwu@hotmail.com'], msg.as_string())\n",
    "server.sendmail('hongjunwu@hotmail.com', ['wd22@uw.edu'], msg.as_string())\n",
    "server.sendmail('hongjunwu@hotmail.com', ['xiaq2@uw.edu'], msg.as_string())\n",
    "server.sendmail('hongjunwu@hotmail.com', ['zechez2@uw.edu'], msg.as_string())\n",
    "server.quit()"
   ]
  },
  {
   "cell_type": "code",
   "execution_count": null,
   "metadata": {},
   "outputs": [],
   "source": []
  }
 ],
 "metadata": {
  "kernelspec": {
   "display_name": "Python 2",
   "language": "python",
   "name": "python2"
  },
  "language_info": {
   "codemirror_mode": {
    "name": "ipython",
    "version": 2
   },
   "file_extension": ".py",
   "mimetype": "text/x-python",
   "name": "python",
   "nbconvert_exporter": "python",
   "pygments_lexer": "ipython2",
   "version": "2.7.6"
  }
 },
 "nbformat": 4,
 "nbformat_minor": 0
}
